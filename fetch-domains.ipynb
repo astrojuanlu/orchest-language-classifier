{
 "cells": [
  {
   "cell_type": "code",
   "execution_count": 1,
   "metadata": {},
   "outputs": [],
   "source": [
    "%load_ext autoreload"
   ]
  },
  {
   "cell_type": "code",
   "execution_count": 2,
   "metadata": {},
   "outputs": [],
   "source": [
    "%autoreload 2"
   ]
  },
  {
   "cell_type": "code",
   "execution_count": 3,
   "metadata": {},
   "outputs": [],
   "source": [
    "import requests\n",
    "import utils\n",
    "from bs4 import BeautifulSoup\n",
    "from urllib.parse import urlparse\n",
    "import tld"
   ]
  },
  {
   "cell_type": "code",
   "execution_count": 6,
   "metadata": {},
   "outputs": [],
   "source": [
    "def is_valid_url(url):\n",
    "    try:\n",
    "        urlparse(url)\n",
    "        return True\n",
    "    except Exception:\n",
    "        return False"
   ]
  },
  {
   "cell_type": "code",
   "execution_count": 28,
   "metadata": {},
   "outputs": [],
   "source": [
    "def get_external_links(html, tld_filter):\n",
    "    soup = BeautifulSoup(html, features=\"html.parser\")\n",
    "    a_s = soup.find_all(\"a\")\n",
    "    return [\n",
    "        a.attrs[\"href\"]\n",
    "        for a in a_s\n",
    "        if \"href\" in a.attrs\n",
    "        and \"http\" in a.attrs[\"href\"]\n",
    "        and is_valid_url(a.attrs[\"href\"])\n",
    "        and tld.get_tld(a.attrs[\"href\"]) == tld_filter\n",
    "    ]"
   ]
  },
  {
   "cell_type": "code",
   "execution_count": 29,
   "metadata": {},
   "outputs": [],
   "source": [
    "def get_random_urls(count=2, lang=\"nl\"):\n",
    "    links = []\n",
    "\n",
    "    random_pages = {\n",
    "        \"nl\": \"https://nl.wikipedia.org/wiki/Speciaal:Willekeurig\",\n",
    "        \"de\": \"https://de.wikipedia.org/wiki/Spezial:Zuf%C3%A4llige_Seite\",\n",
    "    }\n",
    "\n",
    "    for i in range(count):\n",
    "        print(i, end='')\n",
    "        resp = requests.get(random_pages[lang])\n",
    "        links += get_external_links(resp.content, lang)\n",
    "\n",
    "    return links"
   ]
  },
  {
   "cell_type": "code",
   "execution_count": 30,
   "metadata": {},
   "outputs": [
    {
     "name": "stdout",
     "output_type": "stream",
     "text": [
      "012345678910111213141516171819202122232425262728293031323334353637383940414243444546474849"
     ]
    },
    {
     "data": {
      "text/plain": [
       "['http://hetperfecteplaatje.rtl.nl',\n",
       " 'http://hetperfecteplaatje.rtl.nl/',\n",
       " 'https://www.ad.nl/show/humberto-tan-wint-het-perfecte-plaatje~a150001c/',\n",
       " 'https://www.telegraaf.nl/entertainment/1424891/estelle-cruijff-winnares-het-perfecte-plaatje',\n",
       " 'https://www.televizier.nl/amusement/het-perfecte-plaatje-krijgt-derde-seizoen',\n",
       " 'https://www.ad.nl/show/eerste-drie-bn-ers-het-perfecte-plaatje-bekend~a3def931/',\n",
       " 'https://www.ad.nl/show/patty-brard-uitgeroepen-tot-beste-bekende-fotograaf~a19d6d59/',\n",
       " 'https://www.telegraaf.nl/entertainment/3645446/dit-zijn-de-deelnemers-van-het-perfecte-plaatje',\n",
       " 'https://www.nu.nl/media/6018876/winnaar-van-fotografiewedstrijd-het-perfecte-plaatje-bekend.html',\n",
       " 'https://www.ad.nl/show/kijkcijferrecord-ruim-1-6-miljoen-kijkers-voor-finale-het-perfecte-plaatje-2020~ad78817f/',\n",
       " 'http://www.wikiportret.nl/',\n",
       " 'https://www.korfbal.nl/korfballeague/nieuws/frank-mostard-van-blauw-wit-naar-top',\n",
       " 'https://www.nhnieuws.nl/nieuws/225387/frank-mostard-en-peter-scheek-weg-bij-blauw-wit',\n",
       " 'https://kvakorfbal.nl/nieuws_/oud-kva-er-frank-mostard-behaalt-tweede-plaats-in-ziggo-dome/',\n",
       " 'https://www.moviemeter.nl/film/4977',\n",
       " 'http://www.cinemacontext.nl/id/F017107',\n",
       " 'http://www.npo.nl/musica-religiosa/13-01-2013/POMS_IKON_075114?segment=POMS_IKON_296372',\n",
       " 'http://dspace.library.uu.nl/bitstream/handle/1874/297729/syrier.pdf?sequence=2',\n",
       " 'http://www.npo.nl/musica-religiosa/13-01-2013/POMS_IKON_075114?segment=POMS_IKON_296372',\n",
       " 'http://data.bibliotheken.nl/id/thes/p161437265',\n",
       " 'https://books.google.nl/books?id=euT1BgAAQBAJ&pg=PA93&dq=tom+jerry+jasper+jinx+1940&hl=nl&sa=X&ved=0ahUKEwi-m6P3-dzQAhVESRoKHYwUDKoQ6AEIGjAA#v=onepage&q=tom%20jerry%20jasper%20jinx%201940&f=false']"
      ]
     },
     "execution_count": 30,
     "metadata": {},
     "output_type": "execute_result"
    }
   ],
   "source": [
    "links = get_random_urls(count=50); links"
   ]
  },
  {
   "cell_type": "code",
   "execution_count": null,
   "metadata": {},
   "outputs": [],
   "source": []
  }
 ],
 "metadata": {
  "kernelspec": {
   "display_name": "Python 3",
   "language": "python",
   "name": "orchest-kernel-b945478c-18c5-429a-94a7-f494e56eeeff"
  },
  "language_info": {
   "codemirror_mode": {
    "name": "ipython",
    "version": 3
   },
   "file_extension": ".py",
   "mimetype": "text/x-python",
   "name": "python",
   "nbconvert_exporter": "python",
   "pygments_lexer": "ipython3",
   "version": "3.7.6"
  }
 },
 "nbformat": 4,
 "nbformat_minor": 4
}
