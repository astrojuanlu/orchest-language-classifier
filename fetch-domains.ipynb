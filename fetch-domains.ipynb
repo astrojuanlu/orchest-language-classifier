{
 "cells": [
  {
   "cell_type": "code",
   "execution_count": 1,
   "metadata": {},
   "outputs": [],
   "source": [
    "%load_ext autoreload"
   ]
  },
  {
   "cell_type": "code",
   "execution_count": 2,
   "metadata": {},
   "outputs": [],
   "source": [
    "%autoreload 2"
   ]
  },
  {
   "cell_type": "code",
   "execution_count": 3,
   "metadata": {},
   "outputs": [],
   "source": [
    "import functools\n",
    "import operator\n",
    "from urllib.parse import urlparse\n",
    "\n",
    "import orchest\n",
    "import requests\n",
    "import tld\n",
    "from bs4 import BeautifulSoup\n",
    "\n",
    "from utils import fetch_urls_in_parallel"
   ]
  },
  {
   "cell_type": "code",
   "execution_count": 4,
   "metadata": {},
   "outputs": [],
   "source": [
    "def is_valid_url(url):\n",
    "    try:\n",
    "        urlparse(url)\n",
    "        return True\n",
    "    except Exception:\n",
    "        return False"
   ]
  },
  {
   "cell_type": "code",
   "execution_count": 5,
   "metadata": {},
   "outputs": [],
   "source": [
    "def try_get_tld(url):\n",
    "    try:\n",
    "        return tld.get_tld(url)\n",
    "    except Exception:\n",
    "        return \"\""
   ]
  },
  {
   "cell_type": "code",
   "execution_count": 6,
   "metadata": {},
   "outputs": [],
   "source": [
    "def extract_external_links(html, tld_filter):\n",
    "    soup = BeautifulSoup(html, features=\"html.parser\")\n",
    "    a_s = soup.find_all(\"a\")\n",
    "    return [\n",
    "        a.attrs[\"href\"]\n",
    "        for a in a_s\n",
    "        if \"href\" in a.attrs\n",
    "        and \"http\" in a.attrs[\"href\"]\n",
    "        and is_valid_url(a.attrs[\"href\"])\n",
    "        and try_get_tld(a.attrs[\"href\"]) == tld_filter\n",
    "    ]"
   ]
  },
  {
   "cell_type": "code",
   "execution_count": 7,
   "metadata": {},
   "outputs": [],
   "source": [
    "def get_random_urls(count=2, lang=\"nl\"):\n",
    "\n",
    "    random_pages = {\n",
    "        \"nl\": \"https://nl.wikipedia.org/wiki/Speciaal:Willekeurig\",\n",
    "        \"de\": \"https://de.wikipedia.org/wiki/Spezial:Zuf%C3%A4llige_Seite\",\n",
    "    }\n",
    "\n",
    "    urls = [random_pages[lang] for i in range(count)]\n",
    "    resps = fetch_urls_in_parallel(urls, 10)\n",
    "\n",
    "    links = [\n",
    "        extract_external_links(resp.content, lang) for resp in resps if resp is not None\n",
    "    ]\n",
    "    links = functools.reduce(operator.iconcat, links, [])\n",
    "\n",
    "    return links"
   ]
  },
  {
   "cell_type": "code",
   "execution_count": 8,
   "metadata": {},
   "outputs": [
    {
     "name": "stdout",
     "output_type": "stream",
     "text": [
      "e"
     ]
    },
    {
     "name": "stdout",
     "output_type": "stream",
     "text": [
      "e"
     ]
    },
    {
     "name": "stdout",
     "output_type": "stream",
     "text": [
      "e"
     ]
    },
    {
     "name": "stdout",
     "output_type": "stream",
     "text": [
      "e"
     ]
    }
   ],
   "source": [
    "nl_links = get_random_urls(count=orchest.get_step_param(\"random_page_count\"), lang=\"nl\")\n",
    "de_links = get_random_urls(count=orchest.get_step_param(\"random_page_count\"), lang=\"de\")"
   ]
  },
  {
   "cell_type": "code",
   "execution_count": 9,
   "metadata": {},
   "outputs": [
    {
     "name": "stdout",
     "output_type": "stream",
     "text": [
      "Found 48 Dutch domains.\n",
      "Found 87 German domains.\n"
     ]
    }
   ],
   "source": [
    "print(\"Found %d Dutch domains.\" % len(nl_links))\n",
    "print(\"Found %d German domains.\" % len(de_links))"
   ]
  },
  {
   "cell_type": "code",
   "execution_count": 10,
   "metadata": {},
   "outputs": [],
   "source": [
    "# print(nl_links)\n",
    "# print(\"*\" * 20)\n",
    "# print(de_links)"
   ]
  },
  {
   "cell_type": "code",
   "execution_count": 11,
   "metadata": {},
   "outputs": [],
   "source": [
    "orchest.output({\"nl\": nl_links, \"de\": de_links}, name=\"domains\")"
   ]
  }
 ],
 "metadata": {
  "kernelspec": {
   "display_name": "Python 3",
   "language": "python",
   "name": "orchest-kernel-b945478c-18c5-429a-94a7-f494e56eeeff"
  },
  "language_info": {
   "codemirror_mode": {
    "name": "ipython",
    "version": 3
   },
   "file_extension": ".py",
   "mimetype": "text/x-python",
   "name": "python",
   "nbconvert_exporter": "python",
   "pygments_lexer": "ipython3",
   "version": "3.7.6"
  }
 },
 "nbformat": 4,
 "nbformat_minor": 4
}
