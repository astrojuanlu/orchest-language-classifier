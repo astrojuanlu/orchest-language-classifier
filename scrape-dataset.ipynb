{
 "cells": [
  {
   "cell_type": "code",
   "execution_count": 1,
   "metadata": {},
   "outputs": [],
   "source": [
    "import datetime\n",
    "import functools\n",
    "import operator\n",
    "import random\n",
    "import re\n",
    "from itertools import zip_longest\n",
    "\n",
    "import orchest\n",
    "import pandas as pd\n",
    "from bs4 import BeautifulSoup\n",
    "\n",
    "from utils import fetch_urls_in_parallel"
   ]
  },
  {
   "cell_type": "code",
   "execution_count": 2,
   "metadata": {},
   "outputs": [],
   "source": [
    "df = pd.DataFrame([], columns=[\"Time\", \"Count\"])\n",
    "p_count = 0\n",
    "log_path = \"/data/log-scrape-pipeline.csv\"\n",
    "\n",
    "\n",
    "def log_count(count):\n",
    "    global df\n",
    "    df = df.append({\"Time\": datetime.datetime.now(), \"Count\": count}, ignore_index=True)\n",
    "    df.to_csv(log_path)\n",
    "    \n",
    "log_count(0)"
   ]
  },
  {
   "cell_type": "markdown",
   "metadata": {},
   "source": [
    "### Scraping"
   ]
  },
  {
   "cell_type": "code",
   "execution_count": 3,
   "metadata": {},
   "outputs": [],
   "source": [
    "domains = orchest.get_inputs()[\"domains\"]"
   ]
  },
  {
   "cell_type": "code",
   "execution_count": 4,
   "metadata": {},
   "outputs": [],
   "source": [
    "def contains_skip_chars(string):\n",
    "    return any(elem in string for elem in [\"›\"])"
   ]
  },
  {
   "cell_type": "code",
   "execution_count": 5,
   "metadata": {},
   "outputs": [],
   "source": [
    "def clean_text(text):\n",
    "    return re.sub(\n",
    "        \" +\", \" \", text.replace(\"\\r\\n\", \" \").replace(\"\\t\", \" \").replace(\"\\n\", \" \")\n",
    "    ).strip()"
   ]
  },
  {
   "cell_type": "code",
   "execution_count": 6,
   "metadata": {},
   "outputs": [],
   "source": [
    "def extract_paragraphs(html):\n",
    "    soup = BeautifulSoup(html, features=\"html.parser\")\n",
    "    return [\n",
    "        clean_text(p.text)\n",
    "        for p in soup.find_all(\"p\")\n",
    "        if len(p.text) > 25 and not contains_skip_chars(p.text)\n",
    "    ]"
   ]
  },
  {
   "cell_type": "code",
   "execution_count": 7,
   "metadata": {},
   "outputs": [],
   "source": [
    "def grouper(n, iterable, fillvalue=None):\n",
    "    args = [iter(iterable)] * n\n",
    "    return zip_longest(fillvalue=fillvalue, *args)"
   ]
  },
  {
   "cell_type": "code",
   "execution_count": 8,
   "metadata": {},
   "outputs": [],
   "source": [
    "def get_paragraphs(urls):\n",
    "    global p_count\n",
    "\n",
    "    # Fetch all URLs\n",
    "\n",
    "    # Parse urls\n",
    "    ps = []\n",
    "\n",
    "    for _urls in grouper(10, urls):\n",
    "        _urls = [i for i in list(_urls) if i]\n",
    "\n",
    "        resps = fetch_urls_in_parallel(_urls, 10)\n",
    "\n",
    "        _ps = [extract_paragraphs(resp.content) for resp in resps if resp is not None]\n",
    "        _ps = functools.reduce(operator.iconcat, _ps, [])\n",
    "\n",
    "        ps += _ps\n",
    "    \n",
    "        p_count += len(_ps)\n",
    "        log_count(p_count)\n",
    "\n",
    "    return ps"
   ]
  },
  {
   "cell_type": "code",
   "execution_count": 9,
   "metadata": {},
   "outputs": [
    {
     "name": "stderr",
     "output_type": "stream",
     "text": [
      "Some characters could not be decoded, and were replaced with REPLACEMENT CHARACTER.\n"
     ]
    },
    {
     "name": "stderr",
     "output_type": "stream",
     "text": [
      "Some characters could not be decoded, and were replaced with REPLACEMENT CHARACTER.\n"
     ]
    }
   ],
   "source": [
    "ps_nl = get_paragraphs(domains[\"nl\"])"
   ]
  },
  {
   "cell_type": "code",
   "execution_count": 10,
   "metadata": {},
   "outputs": [
    {
     "data": {
      "text/plain": [
       "['Staat er op Wikipedia een artikel zonder portretfoto? En heeft u een foto die bij een artikel zou passen? Stel dan uw foto hier ter beschikking en de vrijwilligers van Wikipedia doen de rest.']"
      ]
     },
     "execution_count": 10,
     "metadata": {},
     "output_type": "execute_result"
    }
   ],
   "source": [
    "ps_nl[:1]"
   ]
  },
  {
   "cell_type": "code",
   "execution_count": 11,
   "metadata": {},
   "outputs": [
    {
     "name": "stderr",
     "output_type": "stream",
     "text": [
      "Some characters could not be decoded, and were replaced with REPLACEMENT CHARACTER.\n"
     ]
    },
    {
     "name": "stderr",
     "output_type": "stream",
     "text": [
      "Some characters could not be decoded, and were replaced with REPLACEMENT CHARACTER.\n"
     ]
    }
   ],
   "source": [
    "ps_de = get_paragraphs(domains[\"de\"])"
   ]
  },
  {
   "cell_type": "code",
   "execution_count": 12,
   "metadata": {},
   "outputs": [
    {
     "data": {
      "text/plain": [
       "['Ausschnitt TK 25 NRWWanderkarte Bergisches Land 1: 25.000, Karte 5: Süden; Das Bergische 2015. ISBN 9783936405880']"
      ]
     },
     "execution_count": 12,
     "metadata": {},
     "output_type": "execute_result"
    }
   ],
   "source": [
    "ps_de[:1]"
   ]
  },
  {
   "cell_type": "code",
   "execution_count": 13,
   "metadata": {},
   "outputs": [
    {
     "name": "stdout",
     "output_type": "stream",
     "text": [
      "Found 811 Dutch sentences.\n",
      "Found 2881 German sentences.\n"
     ]
    }
   ],
   "source": [
    "print(\"Found %d Dutch sentences.\" % len(ps_nl))\n",
    "print(\"Found %d German sentences.\" % len(ps_de))"
   ]
  },
  {
   "cell_type": "code",
   "execution_count": 14,
   "metadata": {},
   "outputs": [],
   "source": [
    "min_size = min(len(ps_nl), len(ps_de))"
   ]
  },
  {
   "cell_type": "code",
   "execution_count": 15,
   "metadata": {},
   "outputs": [
    {
     "name": "stdout",
     "output_type": "stream",
     "text": [
      "Equal sizing datasets: 811 \n"
     ]
    }
   ],
   "source": [
    "print(\"Equal sizing datasets: %d \" % min_size)"
   ]
  },
  {
   "cell_type": "code",
   "execution_count": 16,
   "metadata": {},
   "outputs": [],
   "source": [
    "orchest.output(\n",
    "    {\n",
    "        \"nl\": random.sample(ps_nl, min_size),\n",
    "        \"de\": random.sample(ps_de, min_size),\n",
    "    },\n",
    "    name=\"sentence_data\",\n",
    ")"
   ]
  }
 ],
 "metadata": {
  "kernelspec": {
   "display_name": "Python 3",
   "language": "python",
   "name": "orchest-kernel-b945478c-18c5-429a-94a7-f494e56eeeff"
  },
  "language_info": {
   "codemirror_mode": {
    "name": "ipython",
    "version": 3
   },
   "file_extension": ".py",
   "mimetype": "text/x-python",
   "name": "python",
   "nbconvert_exporter": "python",
   "pygments_lexer": "ipython3",
   "version": "3.7.6"
  }
 },
 "nbformat": 4,
 "nbformat_minor": 4
}
